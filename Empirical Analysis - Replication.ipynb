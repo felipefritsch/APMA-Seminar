{
 "cells": [
  {
   "cell_type": "markdown",
   "metadata": {},
   "source": [
    "### *Hong Sraer (2016),  \"Speculative Betas\"*\n",
    "\n",
    "*Data retrieved from Prof. Sraer's website at http://faculty.haas.berkeley.edu/dsraer/data.html*"
   ]
  },
  {
   "cell_type": "markdown",
   "metadata": {},
   "source": [
    "Loading .dta files (from stata) into python/pandas and creating date index that is useful for plotting."
   ]
  },
  {
   "cell_type": "code",
   "execution_count": 47,
   "metadata": {
    "scrolled": true
   },
   "outputs": [],
   "source": [
    "import pandas as pd\n",
    "import os\n",
    "import matplotlib.pyplot as plt\n",
    "import statsmodels.formula.api as sm\n",
    "import numpy as np\n",
    "data20 = pd.io.stata.read_stata('portfolios/20_beta_sorted_portfolios.dta')\n",
    "data40 = pd.io.stata.read_stata('portfolios/20_beta_sorted_portfolios.dta')\n",
    "data20['date'] = data20.apply(lambda x: str(int(x['year'])) + '/' + str(int(x['month'])), axis=1)\n",
    "data40['date'] = data40.apply(lambda x: str(int(x['year'])) + '/' + str(int(x['month'])), axis=1)\n",
    "data20.set_index('date', inplace=True)\n",
    "data40.set_index('date', inplace=True)\n",
    "\n"
   ]
  },
  {
   "cell_type": "code",
   "execution_count": 48,
   "metadata": {
    "scrolled": true
   },
   "outputs": [],
   "source": [
    "# Defining lagged variables from data\n",
    "lags = [3,6,9,12,18]\n",
    "for lag in lags:\n",
    "     data20['mktrf_lag' + str(lag)] = data20['mktrf'].shift(lag)\n"
   ]
  },
  {
   "cell_type": "markdown",
   "metadata": {},
   "source": [
    "We couldnt get BETA_1 variable, the post-ranking full sample beta of each portfolio. Attempting to reconstruct it from the data below. However, data uses daily returns to compute the beta, whereas we have monthly results. Spread is still extremely wide, and results are similar for all but the bottom two portfolios (compare with descriptive statistics on Table 1 of paper)."
   ]
  },
  {
   "cell_type": "code",
   "execution_count": 49,
   "metadata": {},
   "outputs": [],
   "source": [
    "def get_beta(df):\n",
    "    '''\n",
    "    df: dataframe for each group, ranked by betas. \n",
    "    '''\n",
    "    # Regressing portfolio returns on the current and lagged market returns\n",
    "    # Ran first controlling for serial correlation and heteroskedasticity using newey-west std errors\n",
    "    # Results were similar than just the usual OLS, so left it as is (also no specification in paper).\n",
    "\n",
    "#### RESULTS USING NEWEY WEST    \n",
    "#     results = sm.ols(formula=\"ret_rf ~ mktrf + mktrf_lag3 + mktrf_lag6 + mktrf_lag9 + mktrf_lag12 + mktrf_lag18\", \n",
    "#                      data=df).fit(cov_type='HAC',cov_kwds={'maxlags':17})\n",
    "    \n",
    "    results = sm.ols(formula=\"ret_rf ~ mktrf + mktrf_lag3 + mktrf_lag6 + mktrf_lag9 + mktrf_lag12 + mktrf_lag18\", \n",
    "                 data=df).fit()\n",
    "\n",
    "    params = results.params\n",
    "    # Beta computed as sum of the coefficients of all lags of market returns, per the paper\n",
    "    out = params[1:].sum()\n",
    "    return(out)\n",
    "    \n",
    "# Full sample postranking betas computed, so we just need to groupby portfolios and do regression\n",
    "betas = data20.groupby('group').apply(lambda x: get_beta(x))\n",
    "betas_df = pd.DataFrame(betas).rename(columns={0: \"BETA_1\"})\n",
    "betas_df\n",
    "data20 = data20.merge(betas_df, how='left', left_on=['group'], right_index=True)\n",
    "data20['BETA_2'] = data20['BETA_1'].pow(2)\n"
   ]
  },
  {
   "cell_type": "markdown",
   "metadata": {},
   "source": [
    "Displaying betas for each group"
   ]
  },
  {
   "cell_type": "code",
   "execution_count": 50,
   "metadata": {
    "collapsed": true
   },
   "outputs": [
    {
     "data": {
      "text/html": [
       "<div>\n",
       "<style scoped>\n",
       "    .dataframe tbody tr th:only-of-type {\n",
       "        vertical-align: middle;\n",
       "    }\n",
       "\n",
       "    .dataframe tbody tr th {\n",
       "        vertical-align: top;\n",
       "    }\n",
       "\n",
       "    .dataframe thead th {\n",
       "        text-align: right;\n",
       "    }\n",
       "</style>\n",
       "<table border=\"1\" class=\"dataframe\">\n",
       "  <thead>\n",
       "    <tr style=\"text-align: right;\">\n",
       "      <th></th>\n",
       "      <th>Betas</th>\n",
       "    </tr>\n",
       "  </thead>\n",
       "  <tbody>\n",
       "    <tr>\n",
       "      <th>1</th>\n",
       "      <td>0.159782</td>\n",
       "    </tr>\n",
       "    <tr>\n",
       "      <th>2</th>\n",
       "      <td>0.251669</td>\n",
       "    </tr>\n",
       "    <tr>\n",
       "      <th>3</th>\n",
       "      <td>0.400479</td>\n",
       "    </tr>\n",
       "    <tr>\n",
       "      <th>4</th>\n",
       "      <td>0.550107</td>\n",
       "    </tr>\n",
       "    <tr>\n",
       "      <th>5</th>\n",
       "      <td>0.557424</td>\n",
       "    </tr>\n",
       "    <tr>\n",
       "      <th>6</th>\n",
       "      <td>0.624215</td>\n",
       "    </tr>\n",
       "    <tr>\n",
       "      <th>7</th>\n",
       "      <td>0.677083</td>\n",
       "    </tr>\n",
       "    <tr>\n",
       "      <th>8</th>\n",
       "      <td>0.672397</td>\n",
       "    </tr>\n",
       "    <tr>\n",
       "      <th>9</th>\n",
       "      <td>0.809993</td>\n",
       "    </tr>\n",
       "    <tr>\n",
       "      <th>10</th>\n",
       "      <td>0.808146</td>\n",
       "    </tr>\n",
       "    <tr>\n",
       "      <th>11</th>\n",
       "      <td>0.904018</td>\n",
       "    </tr>\n",
       "    <tr>\n",
       "      <th>12</th>\n",
       "      <td>0.965724</td>\n",
       "    </tr>\n",
       "    <tr>\n",
       "      <th>13</th>\n",
       "      <td>0.991483</td>\n",
       "    </tr>\n",
       "    <tr>\n",
       "      <th>14</th>\n",
       "      <td>1.076860</td>\n",
       "    </tr>\n",
       "    <tr>\n",
       "      <th>15</th>\n",
       "      <td>1.133268</td>\n",
       "    </tr>\n",
       "    <tr>\n",
       "      <th>16</th>\n",
       "      <td>1.173566</td>\n",
       "    </tr>\n",
       "    <tr>\n",
       "      <th>17</th>\n",
       "      <td>1.273700</td>\n",
       "    </tr>\n",
       "    <tr>\n",
       "      <th>18</th>\n",
       "      <td>1.396761</td>\n",
       "    </tr>\n",
       "    <tr>\n",
       "      <th>19</th>\n",
       "      <td>1.413388</td>\n",
       "    </tr>\n",
       "    <tr>\n",
       "      <th>20</th>\n",
       "      <td>1.881448</td>\n",
       "    </tr>\n",
       "  </tbody>\n",
       "</table>\n",
       "</div>"
      ],
      "text/plain": [
       "       Betas\n",
       "1   0.159782\n",
       "2   0.251669\n",
       "3   0.400479\n",
       "4   0.550107\n",
       "5   0.557424\n",
       "6   0.624215\n",
       "7   0.677083\n",
       "8   0.672397\n",
       "9   0.809993\n",
       "10  0.808146\n",
       "11  0.904018\n",
       "12  0.965724\n",
       "13  0.991483\n",
       "14  1.076860\n",
       "15  1.133268\n",
       "16  1.173566\n",
       "17  1.273700\n",
       "18  1.396761\n",
       "19  1.413388\n",
       "20  1.881448"
      ]
     },
     "execution_count": 50,
     "metadata": {},
     "output_type": "execute_result"
    }
   ],
   "source": [
    "betas_display = pd.DataFrame({'Betas': data20['BETA_1'].unique()})\n",
    "betas_display.index = range(1,21)\n",
    "betas_display"
   ]
  },
  {
   "cell_type": "markdown",
   "metadata": {},
   "source": [
    "### Replicating figure 6\n",
    "\n",
    "0 = Low\n",
    "1 = Mid\n",
    "2 = High"
   ]
  },
  {
   "cell_type": "code",
   "execution_count": 51,
   "metadata": {},
   "outputs": [],
   "source": [
    "quartiles = data20['aggregate_disp_daily'].quantile([.25,.75])\n",
    "low_q = quartiles.loc[.25]\n",
    "high_q = quartiles.loc[.75]\n",
    "data20['boolean_disagreement'] = 1\n",
    "data20['boolean_disagreement'] = np.where(data20['aggregate_disp_daily'] <= low_q, 0, data20['boolean_disagreement'])\n",
    "data20['boolean_disagreement'] = np.where(data20['aggregate_disp_daily'] >= high_q, 2, data20['boolean_disagreement'])\n"
   ]
  },
  {
   "cell_type": "code",
   "execution_count": 80,
   "metadata": {},
   "outputs": [
    {
     "data": {
      "image/png": "[encoded data removed]",
      "text/plain": [
       "<Figure size 432x288 with 1 Axes>"
      ]
     },
     "metadata": {
      "needs_background": "light"
     },
     "output_type": "display_data"
    }
   ],
   "source": [
    "def figure6(df, var):\n",
    "    avg = df[var].mean()\n",
    "    return(avg)\n",
    "\n",
    "# lags = ['3', '6', '12', '18']\n",
    "lags = ['12']\n",
    "for lag in lags:\n",
    "    var = 'ret_rf' + lag\n",
    "    fig6_totalDF = data20.groupby(['BETA_1', 'boolean_disagreement']).apply(lambda x: figure6(x, var)).reset_index()\n",
    "    fig6_totalDF = fig6_totalDF.loc[fig6_totalDF['boolean_disagreement'] != 1]\n",
    "    fig6_totalDF = fig6_totalDF.rename(columns = {0: 'AvgRet_'+ lag})\n",
    "    \n",
    "    # Plotting\n",
    "    groups = fig6_totalDF.groupby('boolean_disagreement')\n",
    "    fig, ax = plt.subplots()\n",
    "    ax.margins(0.05) # Optional, just adds 5% padding to the autoscaling\n",
    "    labelDict = {0: 'Low Agg Disagreement', 2: 'High Agg Disagreement'}\n",
    "    colorDict = {0: 'red', 2: 'blue'}\n",
    "    markerDict = {0: 'o', 2: '^'}\n",
    "    \n",
    "    for name, group in groups:\n",
    "        ax.plot(group['BETA_1'], group['AvgRet_'+ lag], marker=markerDict[name], linestyle='', \n",
    "                color=colorDict[name] ,label=labelDict[name])\n",
    "    ax.set_ylabel(lag + 'month forward excess returns (%)')\n",
    "    ax.set_xlabel('Portfolio Postranking Betas')\n",
    "    ax.set_title('SML varying with aggregate disagreement \\n (Using 12 Month forward returns)')\n",
    "    ax.legend()\n"
   ]
  },
  {
   "cell_type": "markdown",
   "metadata": {},
   "source": [
    "While the relationship between excess forward returns and β is quite noisy\n",
    "at the 3- and 6-month horizons, two striking facts emerge at the 12- and\n",
    "18-month horizons. First, the average excess returns-to-β relationship is mostly\n",
    "upward-sloping for months with low aggregate disagreement. This result is generally consistent with our theory, which holds that low aggregate disagreement\n",
    "means low or even no mispricing and hence a strictly upward-sloping Security\n",
    "Market Line. Second, in months of high aggregate disagreement, the excess\n",
    "returns-to-β relationship appears to exhibit the inverted-U shape predicted by\n",
    "the theory."
   ]
  },
  {
   "cell_type": "markdown",
   "metadata": {},
   "source": [
    "## Regression results\n",
    "\n",
    "First, we estimate first stage cross-sectional regression over 20 $\\beta$ sorted portfolios:\n",
    "$$r^{(12)}_{P,t} = \\kappa_t + \\pi_t \\cdot \\beta_P + \\phi_t \\cdot (\\beta_P)^2 + \\epsilon_{P,t}$$\n",
    "$$For:  P = {1,2,...,20}$$\n",
    "\n",
    "$r^{(12)}_{P,t}$ is the 12-month excess return of the $P^{th}$ beta-sorted portfolio, and $\\beta_P$ is the full-sample post-ranking beta of that portfolio.\n",
    "\n",
    "You will get a time series of $\\kappa_t$, $\\pi_t$, and $\\phi_t$, for each month's regression. We are mostly interested in time series of $\\phi_t$ which represents concavity of SML. \n",
    "\n",
    "Essentially, we want to perform a time-series regression of $\\phi_t$ on aggregate disagreement and other control covariates (as suggested by literature), and see how this determines it."
   ]
  },
  {
   "cell_type": "code",
   "execution_count": 81,
   "metadata": {},
   "outputs": [],
   "source": [
    "def regTable3(df):\n",
    "    try:\n",
    "        results = sm.ols(formula=\"ret_rf12 ~ BETA_1 + BETA_2\", data=df).fit()\n",
    "        params = results.params\n",
    "        params.index = ['slope0', 'slope1', 'slope2']\n",
    "    except:\n",
    "        params = pd.Series([np.nan]*3)\n",
    "        params.index = ['slope0', 'slope1', 'slope2']\n",
    "    return(params)\n",
    "\n",
    "coeffs = data20.reset_index().groupby(['month', 'year']).apply(lambda x: regTable3(x)).reset_index()\n",
    "coeffs['date'] = coeffs.apply(lambda x: str(int(x['year'])) + '/' + str(int(x['month'])), axis=1)\n",
    "coeffs = coeffs.set_index('date').drop(['month', 'year'], axis=1)\n",
    "data20 = data20.merge(coeffs, how='left', left_index=True, right_index=True)\n"
   ]
  },
  {
   "cell_type": "markdown",
   "metadata": {},
   "source": [
    "Now, we perform second stage regression as explained above. We use Newey West estimators for the standard errors while still using OLS -- no reason to think regressor endogeneity is present, so OLS estimators are still unbiased/consistent. However, we need to use NW std errors, which are heteroskedasticity and auto-correlation robust, to properly perform inference.\n",
    "\n",
    "#### ADD DERIVTION OF NEWEY WEST COVARIANCE MATRIX vs. USUAL OLS W/ HOMOSKEDASTICITY COVARIANCE MATRIX"
   ]
  },
  {
   "cell_type": "code",
   "execution_count": 121,
   "metadata": {
    "collapsed": true
   },
   "outputs": [
    {
     "data": {
      "text/plain": [
       "Index(['group', 'year', 'month', 'ret_rf', 'ret_rf1', 'ret_rf3', 'ret_rf6',\n",
       "       'ret_rf9', 'ret_rf12', 'ret_rf18', 'inflation', 'TED', 'dp', 'pe',\n",
       "       'mktrf', 'smb', 'hml', 'umd', 'aggregate_disp_daily', 'mktrf_1',\n",
       "       'mktrf_3', 'mktrf_6', 'mktrf_9', 'mktrf_12', 'mktrf_18', 'hml_1',\n",
       "       'hml_3', 'hml_6', 'hml_9', 'hml_12', 'hml_18', 'smb_1', 'smb_3',\n",
       "       'smb_6', 'smb_9', 'smb_12', 'smb_18', 'umd_1', 'umd_3', 'umd_6',\n",
       "       'umd_9', 'umd_12', 'umd_18', 'mktrf_lag3', 'mktrf_lag6', 'mktrf_lag9',\n",
       "       'mktrf_lag12', 'mktrf_lag18', 'BETA_1', 'BETA_2',\n",
       "       'boolean_disagreement', 'slope0', 'slope1', 'slope2',\n",
       "       'aggregate_disp_lag1', 'aggregate_disp_lag1_scaled', 'dp_scaled_lag1',\n",
       "       'TED_scaled_lag1', 'inflation_scaled_lag1'],\n",
       "      dtype='object')"
      ]
     },
     "execution_count": 121,
     "metadata": {},
     "output_type": "execute_result"
    }
   ],
   "source": [
    "# Creating lagged variable of agg disp\n",
    "data20['aggregate_disp_lag1'] = data20.groupby('group')['aggregate_disp_daily'].shift(1)\n",
    "\n",
    "# Scaling and lagging necessary variables\n",
    "scaleVars = ['dp', 'TED','inflation']\n",
    "for var in scaleVars:\n",
    "    newVar = var+'_scaled_lag1'\n",
    "    data20[newVar] = data20.groupby('group')[var].shift(1)\n",
    "    data20[newVar] = data20[newVar].sub(data20[newVar].mean()).div(data20[newVar].std())\n",
    "\n"
   ]
  },
  {
   "cell_type": "code",
   "execution_count": 143,
   "metadata": {},
   "outputs": [
    {
     "name": "stdout",
     "output_type": "stream",
     "text": [
      "Regressing spefication: Spec1\n",
      "Regressors: aggregate_disp_lag1\n",
      "Regressing spefication: Spec2\n",
      "Regressors: ['aggregate_disp_lag1', 'mktrf_12', 'hml_12', 'smb_12', 'umd_12']\n",
      "Regressing spefication: Spec3\n",
      "Regressors: ['aggregate_disp_lag1', 'mktrf_12', 'hml_12', 'smb_12', 'umd_12', 'dp_scaled_lag1', 'inflation_scaled_lag1']\n",
      "Regressing spefication: Spec4\n",
      "Regressors: ['aggregate_disp_lag1', 'mktrf_12', 'hml_12', 'smb_12', 'umd_12', 'dp_scaled_lag1', 'inflation_scaled_lag1', 'TED_scaled_lag1']\n"
     ]
    }
   ],
   "source": [
    "def regFunc(big_df, varList):\n",
    "    '''\n",
    "    Params\n",
    "    1) big_df: Dataframe with all variables, regardless of specification\n",
    "    2) varList: list with variables, and last element is dependent variable (y)\n",
    "    '''\n",
    "    df = big_df[varList]\n",
    "    \n",
    "    # Automating parameter to be passed to sm.ols()\n",
    "    formula_str = varList[-1] + '~' + varList[0]\n",
    "    if len(varList) > 1:\n",
    "        for regressor in varList[1:-1]:\n",
    "            formula_str = formula_str + '+' + regressor\n",
    "    \n",
    "    # Computing regression object\n",
    "    results = sm.ols(formula=formula_str, data=df).fit(cov_type='HAC',cov_kwds={'maxlags':11})\n",
    "    return(results.summary())\n",
    "    \n",
    "\n",
    "specMax = ['aggregate_disp_lag1', 'mktrf_12', 'hml_12', 'smb_12', 'umd_12', 'dp_scaled_lag1', 'inflation_scaled_lag1',\n",
    "          'TED_scaled_lag1']\n",
    "regDict = {'Spec1': specMax[0],\n",
    "           'Spec2': specMax[:5],\n",
    "           'Spec3': specMax[:-1],\n",
    "           'Spec4': specMax}\n",
    "\n",
    "# Reducing data matrix to relevant variables of interest, \n",
    "# and dropping duplicates as these variables are common across portfolios\n",
    "\n",
    "regDF = data20[['slope2'] + specMax].dropna()\n",
    "regDF = regDF.drop_duplicates()\n",
    "\n",
    "regResults = []\n",
    "for key, value in regDict.items():\n",
    "#     print('Regressing spefication: ' + key)\n",
    "#     print('Regressors:', value)\n",
    "    allVars = [value] + ['slope2'] if key == 'Spec1' else value + ['slope2']\n",
    "    regResults.append(regFunc(regDF, allVars))\n",
    "    "
   ]
  },
  {
   "cell_type": "code",
   "execution_count": 147,
   "metadata": {},
   "outputs": [
    {
     "data": {
      "text/plain": [
       "[<class 'statsmodels.iolib.summary.Summary'>\n",
       " \"\"\"\n",
       "                             OLS Regression Results                            \n",
       " ==============================================================================\n",
       " Dep. Variable:                 slope2   R-squared:                       0.098\n",
       " Model:                            OLS   Adj. R-squared:                  0.095\n",
       " Method:                 Least Squares   F-statistic:                     4.350\n",
       " Date:                Thu, 28 Nov 2019   Prob (F-statistic):             0.0377\n",
       " Time:                        14:23:40   Log-Likelihood:                -1515.3\n",
       " No. Observations:                 384   AIC:                             3035.\n",
       " Df Residuals:                     382   BIC:                             3043.\n",
       " Df Model:                           1                                         \n",
       " Covariance Type:                  HAC                                         \n",
       " =======================================================================================\n",
       "                           coef    std err          z      P>|z|      [0.025      0.975]\n",
       " ---------------------------------------------------------------------------------------\n",
       " Intercept              -4.1048      1.450     -2.830      0.005      -6.947      -1.262\n",
       " aggregate_disp_lag1    -4.0734      1.953     -2.086      0.037      -7.901      -0.246\n",
       " ==============================================================================\n",
       " Omnibus:                       11.561   Durbin-Watson:                   0.638\n",
       " Prob(Omnibus):                  0.003   Jarque-Bera (JB):               12.716\n",
       " Skew:                           0.343   Prob(JB):                      0.00173\n",
       " Kurtosis:                       3.569   Cond. No.                         1.02\n",
       " ==============================================================================\n",
       " \n",
       " Warnings:\n",
       " [1] Standard Errors are heteroscedasticity and autocorrelation robust (HAC) using 11 lags and without small sample correction\n",
       " \"\"\", <class 'statsmodels.iolib.summary.Summary'>\n",
       " \"\"\"\n",
       "                             OLS Regression Results                            \n",
       " ==============================================================================\n",
       " Dep. Variable:                 slope2   R-squared:                       0.259\n",
       " Model:                            OLS   Adj. R-squared:                  0.250\n",
       " Method:                 Least Squares   F-statistic:                     5.077\n",
       " Date:                Thu, 28 Nov 2019   Prob (F-statistic):           0.000162\n",
       " Time:                        14:23:40   Log-Likelihood:                -1477.5\n",
       " No. Observations:                 384   AIC:                             2967.\n",
       " Df Residuals:                     378   BIC:                             2991.\n",
       " Df Model:                           5                                         \n",
       " Covariance Type:                  HAC                                         \n",
       " =======================================================================================\n",
       "                           coef    std err          z      P>|z|      [0.025      0.975]\n",
       " ---------------------------------------------------------------------------------------\n",
       " Intercept              -2.3650      1.493     -1.584      0.113      -5.291       0.561\n",
       " aggregate_disp_lag1    -3.3267      1.606     -2.071      0.038      -6.474      -0.179\n",
       " mktrf_12               -0.0529      0.075     -0.704      0.481      -0.200       0.094\n",
       " hml_12                 -0.3856      0.133     -2.895      0.004      -0.647      -0.125\n",
       " smb_12                  0.2176      0.151      1.438      0.150      -0.079       0.514\n",
       " umd_12                 -0.0010      0.082     -0.012      0.990      -0.163       0.160\n",
       " ==============================================================================\n",
       " Omnibus:                        7.845   Durbin-Watson:                   0.599\n",
       " Prob(Omnibus):                  0.020   Jarque-Bera (JB):                7.796\n",
       " Skew:                           0.345   Prob(JB):                       0.0203\n",
       " Kurtosis:                       3.104   Cond. No.                         27.1\n",
       " ==============================================================================\n",
       " \n",
       " Warnings:\n",
       " [1] Standard Errors are heteroscedasticity and autocorrelation robust (HAC) using 11 lags and without small sample correction\n",
       " \"\"\", <class 'statsmodels.iolib.summary.Summary'>\n",
       " \"\"\"\n",
       "                             OLS Regression Results                            \n",
       " ==============================================================================\n",
       " Dep. Variable:                 slope2   R-squared:                       0.361\n",
       " Model:                            OLS   Adj. R-squared:                  0.349\n",
       " Method:                 Least Squares   F-statistic:                     8.130\n",
       " Date:                Thu, 28 Nov 2019   Prob (F-statistic):           3.17e-09\n",
       " Time:                        14:23:40   Log-Likelihood:                -1449.2\n",
       " No. Observations:                 384   AIC:                             2914.\n",
       " Df Residuals:                     376   BIC:                             2946.\n",
       " Df Model:                           7                                         \n",
       " Covariance Type:                  HAC                                         \n",
       " =========================================================================================\n",
       "                             coef    std err          z      P>|z|      [0.025      0.975]\n",
       " -----------------------------------------------------------------------------------------\n",
       " Intercept                -2.6558      1.303     -2.039      0.041      -5.209      -0.103\n",
       " aggregate_disp_lag1      -6.2047      1.716     -3.616      0.000      -9.568      -2.842\n",
       " mktrf_12                 -0.0760      0.058     -1.303      0.193      -0.190       0.038\n",
       " hml_12                   -0.2928      0.119     -2.452      0.014      -0.527      -0.059\n",
       " smb_12                    0.3242      0.117      2.764      0.006       0.094       0.554\n",
       " umd_12                    0.0143      0.069      0.208      0.835      -0.121       0.149\n",
       " dp_scaled_lag1           -2.1027      1.311     -1.603      0.109      -4.673       0.468\n",
       " inflation_scaled_lag1    -3.4697      0.964     -3.599      0.000      -5.359      -1.580\n",
       " ==============================================================================\n",
       " Omnibus:                       13.488   Durbin-Watson:                   0.747\n",
       " Prob(Omnibus):                  0.001   Jarque-Bera (JB):               14.329\n",
       " Skew:                           0.473   Prob(JB):                     0.000774\n",
       " Kurtosis:                       2.952   Cond. No.                         33.5\n",
       " ==============================================================================\n",
       " \n",
       " Warnings:\n",
       " [1] Standard Errors are heteroscedasticity and autocorrelation robust (HAC) using 11 lags and without small sample correction\n",
       " \"\"\", <class 'statsmodels.iolib.summary.Summary'>\n",
       " \"\"\"\n",
       "                             OLS Regression Results                            \n",
       " ==============================================================================\n",
       " Dep. Variable:                 slope2   R-squared:                       0.361\n",
       " Model:                            OLS   Adj. R-squared:                  0.348\n",
       " Method:                 Least Squares   F-statistic:                     7.271\n",
       " Date:                Thu, 28 Nov 2019   Prob (F-statistic):           5.51e-09\n",
       " Time:                        14:23:40   Log-Likelihood:                -1449.1\n",
       " No. Observations:                 384   AIC:                             2916.\n",
       " Df Residuals:                     375   BIC:                             2952.\n",
       " Df Model:                           8                                         \n",
       " Covariance Type:                  HAC                                         \n",
       " =========================================================================================\n",
       "                             coef    std err          z      P>|z|      [0.025      0.975]\n",
       " -----------------------------------------------------------------------------------------\n",
       " Intercept                -2.6115      1.320     -1.978      0.048      -5.199      -0.024\n",
       " aggregate_disp_lag1      -6.1426      1.669     -3.681      0.000      -9.413      -2.872\n",
       " mktrf_12                 -0.0776      0.060     -1.286      0.199      -0.196       0.041\n",
       " hml_12                   -0.2962      0.116     -2.560      0.010      -0.523      -0.069\n",
       " smb_12                    0.3250      0.117      2.770      0.006       0.095       0.555\n",
       " umd_12                    0.0123      0.067      0.182      0.856      -0.120       0.144\n",
       " dp_scaled_lag1           -1.9086      1.604     -1.190      0.234      -5.052       1.235\n",
       " inflation_scaled_lag1    -3.3624      0.870     -3.866      0.000      -5.067      -1.658\n",
       " TED_scaled_lag1          -0.3419      1.111     -0.308      0.758      -2.520       1.836\n",
       " ==============================================================================\n",
       " Omnibus:                       13.799   Durbin-Watson:                   0.746\n",
       " Prob(Omnibus):                  0.001   Jarque-Bera (JB):               14.694\n",
       " Skew:                           0.478   Prob(JB):                     0.000645\n",
       " Kurtosis:                       2.950   Cond. No.                         39.9\n",
       " ==============================================================================\n",
       " \n",
       " Warnings:\n",
       " [1] Standard Errors are heteroscedasticity and autocorrelation robust (HAC) using 11 lags and without small sample correction\n",
       " \"\"\"]"
      ]
     },
     "execution_count": 147,
     "metadata": {},
     "output_type": "execute_result"
    }
   ],
   "source": [
    "regResults"
   ]
  },
  {
   "cell_type": "markdown",
   "metadata": {},
   "source": [
    "**Results presented above from the second-stage regressions.**\n",
    "\n",
    "A higher Agg.Disp.t−1 is associated with a\n",
    "smaller φt, that is, a more concave Security Market Line, or equivalently, lower\n",
    "average returns of the square portfolio. The t-statistics are between −2.1 and\n",
    "−3.7 depending on the specification. Importantly, the estimate is significant by\n",
    "itself even without any controls, although the inclusion of the D/P ratio and\n",
    "the year-over-year past inflation rate increases the effect of aggregate disagreement on the concavity of the Security Market Line"
   ]
  },
  {
   "cell_type": "markdown",
   "metadata": {},
   "source": [
    "## Additional Plots"
   ]
  },
  {
   "cell_type": "markdown",
   "metadata": {},
   "source": [
    "### 1) Showing time series of SML concavity coeff and agg Disagreement\n",
    "\n",
    "RELEVANT: Note period during dotcom bubble"
   ]
  },
  {
   "cell_type": "code",
   "execution_count": 161,
   "metadata": {},
   "outputs": [
    {
     "data": {
      "text/plain": [
       "Text(0.5, 1.0, 'Time Series of Concavity vs Aggregate Disagreement')"
      ]
     },
     "execution_count": 161,
     "metadata": {},
     "output_type": "execute_result"
    },
    {
     "data": {
      "image/png": "[encoded data removed]",
      "text/plain": [
       "<Figure size 432x288 with 2 Axes>"
      ]
     },
     "metadata": {
      "needs_background": "light"
     },
     "output_type": "display_data"
    }
   ],
   "source": [
    "plot1_df = data20[['slope2', 'aggregate_disp_daily']].drop_duplicates()\n",
    "\n",
    "fig, ax = plt.subplots()\n",
    "ax2 = ax.twinx()\n",
    "rspine = ax2.spines['right']\n",
    "rspine.set_position(('axes', 1.15))\n",
    "\n",
    "plot1_df.slope2.plot(ax=ax, style='b-')\n",
    "plot1_df.aggregate_disp_daily.plot(ax=ax2, style='r-')\n",
    "ax2.legend([ax.get_lines()[0], ax2.get_lines()[0]], ['Concavity','Disagreement'])\n",
    "\n",
    "ax.set_xlabel('Date')\n",
    "ax.set_ylabel('Concavity Coefficient')\n",
    "ax2.set_ylabel('Aggregate Disagreement')\n",
    "ax.set_title('Time Series of Concavity vs Aggregate Disagreement')\n"
   ]
  },
  {
   "cell_type": "markdown",
   "metadata": {},
   "source": [
    "### 2) Show plot of diasgreement vs concavity, and add fitted values from regression (Figure 3 in draft paper)"
   ]
  },
  {
   "cell_type": "code",
   "execution_count": 174,
   "metadata": {},
   "outputs": [
    {
     "data": {
      "text/plain": [
       "<matplotlib.legend.Legend at 0x1a1d14e3c8>"
      ]
     },
     "execution_count": 174,
     "metadata": {},
     "output_type": "execute_result"
    },
    {
     "data": {
      "image/png": "[encoded data removed]",
      "text/plain": [
       "<Figure size 432x288 with 1 Axes>"
      ]
     },
     "metadata": {
      "needs_background": "light"
     },
     "output_type": "display_data"
    }
   ],
   "source": [
    "plot2_df = data20[['slope2', 'aggregate_disp_daily']].drop_duplicates()\n",
    "fig,ax = plt.subplots()\n",
    "plot2_df.plot.scatter(x='aggregate_disp_daily', y='slope2', ax=ax)\n",
    "f = lambda x: -4.1048 + -4.0734*x\n",
    "ax.plot([-1, 3], [f(-1), f(3)], c='r')    \n",
    "ax.set_title('Aggregate Disagreement and Failure of Capm')\n",
    "ax.legend(['Fitted Values','Concavity Coeff'])\n"
   ]
  }
 ],
 "metadata": {
  "kernelspec": {
   "display_name": "Python 3",
   "language": "python",
   "name": "python3"
  },
  "language_info": {
   "codemirror_mode": {
    "name": "ipython",
    "version": 3
   },
   "file_extension": ".py",
   "mimetype": "text/x-python",
   "name": "python",
   "nbconvert_exporter": "python",
   "pygments_lexer": "ipython3",
   "version": "3.7.3"
  }
 },
 "nbformat": 4,
 "nbformat_minor": 2
}
